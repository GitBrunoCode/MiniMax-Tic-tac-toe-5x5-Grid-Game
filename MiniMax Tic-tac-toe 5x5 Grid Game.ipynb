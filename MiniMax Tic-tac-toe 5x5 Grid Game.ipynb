{
 "cells": [
  {
   "cell_type": "markdown",
   "id": "e1bee46a",
   "metadata": {},
   "source": [
    "# <span style='color:Blue'> MiniMax Tic-tac-toe 5x5 Grid Game</span>\n",
    "## <span style='color:Blue'>with GUI interface made with Ursina</span>"
   ]
  },
  {
   "cell_type": "markdown",
   "id": "639274dc",
   "metadata": {},
   "source": [
    "# Introduction\n",
    "\n",
    "The main objective of this project was to create a program capable of playing a tic tac toe game on 5*5 grid versus a human player. Unlike tic tac toe, the player objective is to obtain a 4 symboles row with his own symbol instead of 3.\n",
    "The AI behind the computer player is based on a MiniMax algorithm, optimized with Zobrist Hashing and alpha beta pruning. Obviously, the MiniMax algorithm is based on a Evaluation function which could be clearly optimized to increase the difficulty of the game.\n",
    "\n"
   ]
  },
  {
   "cell_type": "markdown",
   "id": "23aebc7c",
   "metadata": {},
   "source": [
    "## Useful ressources\n",
    "\n",
    "* Tic-tac-toe *https://en.wikipedia.org/wiki/Tic-tac-toe*\n",
    "* Minimax *https://en.wikipedia.org/wiki/Minimax*\n",
    "* Alpha–beta pruning *https://en.wikipedia.org/wiki/Alpha%E2%80%93beta_pruning*\n",
    "* Zobrist hashing *https://en.wikipedia.org/wiki/Zobrist_hashing*\n",
    "* Solving connect 4 *http://blog.gamesolver.org/solving-connect-four/02-test-protocol/*\n",
    "* Computer Science Game Trees *https://www.yosenspace.com/posts/computer-science-game-trees.html*\n",
    "* Minimax and Monte Carlo Tree Search *https://philippmuens.com/minimax-and-mcts*\n",
    "* Zobrist Hashing *https://levelup.gitconnected.com/zobrist-hashing-305c6c3c54d0*"
   ]
  },
  {
   "cell_type": "markdown",
   "id": "6c9349ad",
   "metadata": {},
   "source": [
    "# Table of Contents"
   ]
  },
  {
   "cell_type": "markdown",
   "id": "367e7f5d",
   "metadata": {},
   "source": [
    "* [1. Librairies](#c1)\n",
    "* [2. Game construction methods](#c2)\n",
    "    * [a. Display and Reset the Game Board](#c21)\n",
    "    * [b. Get the state of the Board](#c22)\n",
    "    * [c. Add Player point](#c23)\n",
    "    * [d. Evaluation Function](#c24)\n",
    "    * [e. Zobrist Hashing](#c25)\n",
    "    * [f. IA MiniMax](#c26)\n",
    "* [3. Play the Game in the Python console](#c3)\n",
    "* [4. Play the Game in a better interface](#c4)"
   ]
  },
  {
   "cell_type": "markdown",
   "id": "aa15656d",
   "metadata": {},
   "source": [
    "# 1. Librairies <a class=\"anchor\" id=\"c1\"></a>"
   ]
  },
  {
   "cell_type": "code",
   "execution_count": 1,
   "id": "175e5b47",
   "metadata": {},
   "outputs": [
    {
     "name": "stdout",
     "output_type": "stream",
     "text": [
      "package_folder: C:\\Users\\bruno\\anaconda3\\lib\\site-packages\\ursina\n",
      "asset_folder: C:\\Users\\bruno\\anaconda3\\lib\\site-packages\n",
      "screen resolution: (1920, 1080)\n"
     ]
    }
   ],
   "source": [
    "import random\n",
    "import math\n",
    "\n",
    "from IPython.display import Image,display,clear_output\n",
    "from IPython.core.display import HTML\n",
    "\n",
    "from ursina import *"
   ]
  },
  {
   "cell_type": "code",
   "execution_count": 2,
   "id": "df0bddcc",
   "metadata": {},
   "outputs": [
    {
     "data": {
      "text/html": [
       "<img src=\"https://upload.wikimedia.org/wikipedia/commons/3/33/Tictactoe1.gif\"/>"
      ],
      "text/plain": [
       "<IPython.core.display.Image object>"
      ]
     },
     "execution_count": 2,
     "metadata": {},
     "output_type": "execute_result"
    }
   ],
   "source": [
    " Image(url= \"https://upload.wikimedia.org/wikipedia/commons/3/33/Tictactoe1.gif\")"
   ]
  },
  {
   "cell_type": "markdown",
   "id": "73194cb1",
   "metadata": {},
   "source": [
    "# 2. Game construction methods <a class=\"anchor\" id=\"c2\"></a>"
   ]
  },
  {
   "cell_type": "markdown",
   "id": "afd3a21f",
   "metadata": {},
   "source": [
    "## a. Display and Reset the Game Board <a class=\"anchor\" id=\"c21\"></a>"
   ]
  },
  {
   "cell_type": "code",
   "execution_count": 3,
   "id": "195114df",
   "metadata": {},
   "outputs": [],
   "source": [
    "def reset():\n",
    "    for i in range(board_size):\n",
    "        board[i]=' '\n",
    "\n",
    "def display_board(board):\n",
    "        print(' ',end='')\n",
    "        for i in range(board_side):\n",
    "            print(i+1,end=' ')\n",
    "        print()\n",
    "        print('-'*(board_side*2+1))\n",
    "        for i in range(board_side):\n",
    "            print('|',end='')\n",
    "            for j in range(board_side):\n",
    "                print(board[j+i*(board_side)],end='|')\n",
    "            print(\" \",i+1)\n",
    "        print('-'*(board_side*2+1))\n"
   ]
  },
  {
   "cell_type": "markdown",
   "id": "e8211f95",
   "metadata": {},
   "source": [
    "## b. Get the state of the Board <a class=\"anchor\" id=\"c22\"></a>"
   ]
  },
  {
   "cell_type": "code",
   "execution_count": 4,
   "id": "e11d2f99",
   "metadata": {},
   "outputs": [],
   "source": [
    "# Check the state of a board\n",
    "    # finished game\n",
    "        # player X win, return X\n",
    "        # player O win, return O\n",
    "        # draw, return 'draw'\n",
    "    # Non-finished game\n",
    "        # return -1\n",
    "\n",
    "def state_board(board):\n",
    "    \n",
    "        \n",
    "    for j in range(board_side):\n",
    "        #vertical\n",
    "        for i in range(board_side%4+1): \n",
    "            if board[i*board_side+j]!=' ':\n",
    "                if (board[i*board_side+j] == board[(i+1)*board_side+j] == board[(i+2)*board_side+j] == board[(i+3)*board_side+j]):\n",
    "                    return (board[i*board_side+j])\n",
    "        #horizontal\n",
    "        for i in range(board_side%4+1): \n",
    "            if board[(board_side*j+i)]!=' ':\n",
    "                if (board[board_side*j+i] == board[(board_side*j+i)+1] == board[(board_side*j+i)+2] == board[(board_side*j+i)+3]):\n",
    "                    return (board[(board_side*j+i)])\n",
    "                \n",
    "                \n",
    "        #diago top-left corner\n",
    "        #main diagonal\n",
    "        for i in range(board_side%4+1): \n",
    "            for j in range(board_side%4+1-i):\n",
    "                if board[i+j*(board_side+1)]!=' ':\n",
    "                    if (board[i+j*(board_side+1)]==board[i+(j+1)*(board_side+1)]==board[i+(j+2)*(board_side+1)]==board[i+(j+3)*(board_side+1)]):\n",
    "                        return (board[i+j*(board_side+1)])\n",
    "                \n",
    "                if i!=0:\n",
    "                    if board[i*board_side+j*(board_side+1)]!=' ':\n",
    "                        if (board[i*board_side+j*(board_side+1)]==board[i*board_side+(j+1)*(board_side+1)]==board[i*board_side+(j+2)*(board_side+1)]==board[i*board_side+(j+3)*(board_side+1)]):\n",
    "                            return (board[i*board_side+j*(board_side+1)])   \n",
    "        \n",
    "                \n",
    "        #diago bottom-left corner\n",
    "        #counterdiagonal\n",
    "        for i in range(board_side%4+1): \n",
    "            for j in range(board_side%4+1-i):\n",
    "                if board[(board_side-1)*(j+1)-i]!=' ':\n",
    "                    if (board[(board_side-1)*(j+1)-i]==board[(board_side-1)*(j+2)-i]==board[(board_side-1)*(j+3)-i]==board[(board_side-1)*(j+4)-i]):\n",
    "                        return (board[(board_side-1)*(j+1)-i])\n",
    "                    \n",
    "                if i!=0:\n",
    "                    if board[(board_side-1)*(j+1)+i*board_side]!=' ':\n",
    "                        if (board[(board_side-1)*(j+1)+i*board_side]==board[(board_side-1)*(j+2)+i*board_side]==board[(board_side-1)*(j+3)+i*board_side]==board[(board_side-1)*(j+4)+i*board_side]):\n",
    "                            return (board[(board_side-1)*(j+1)+i*board_side])  \n",
    "         \n",
    "        #draw\n",
    "    draw=True\n",
    "    for i in board:\n",
    "        if i==' ':\n",
    "            draw=False\n",
    "            break\n",
    "    if draw==True:\n",
    "        return 'draw'      \n",
    "                \n",
    "    return('-1')"
   ]
  },
  {
   "cell_type": "markdown",
   "id": "c36cc031",
   "metadata": {},
   "source": [
    "## c. Add player point <a class=\"anchor\" id=\"c23\"></a>"
   ]
  },
  {
   "cell_type": "code",
   "execution_count": 5,
   "id": "6b20dfa8",
   "metadata": {},
   "outputs": [],
   "source": [
    "def empty_position(board):\n",
    "    position_list=[]\n",
    "    for i in range(board_size):\n",
    "        if board[i]==' ':\n",
    "            position_list.append(i)\n",
    "    return position_list\n",
    "\n",
    "\n",
    "def valid_coord(x,y):\n",
    "    valid=True\n",
    "    if (x<1 or x>board_side or y<1 or y>board_side):\n",
    "        valid=False\n",
    "    return valid\n",
    "\n",
    "\n",
    "\n",
    "# check if the position given by the player is valid:\n",
    "# the case should be emplty\n",
    "# the coord must be in the range of the board\n",
    "\n",
    "def add_point_player(board,player):\n",
    "    x=-1\n",
    "    y=-1\n",
    "    while(valid_coord(x,y)==False or (x-1+(y-1)*board_side) not in empty_position(board)):\n",
    "                x=int(input(\"column number: \"))\n",
    "                y=int(input(\"row number: \"))\n",
    "    board[(x-1+(y-1)*board_side)]=player\n",
    "\n",
    "    \n",
    "def add_point_IA(board,depth):\n",
    "    value=[]\n",
    "    empty=empty_position(board)\n",
    "    for i in empty:\n",
    "        board[i]='O'\n",
    "        value.append(minimax('X',board,depth,math.inf,-math.inf,hash_keys[i*2+1]))\n",
    "        board[i]=' '\n",
    "    print(value)\n",
    "    best_move=empty[value.index(max(value))]\n",
    "    return best_move "
   ]
  },
  {
   "cell_type": "markdown",
   "id": "30bccf9c",
   "metadata": {},
   "source": [
    "## d. Evaluation Function <a class=\"anchor\" id=\"c24\"></a>"
   ]
  },
  {
   "cell_type": "code",
   "execution_count": 6,
   "id": "b0b071e4",
   "metadata": {},
   "outputs": [],
   "source": [
    "#The evaluation function is used to calculate a score for a given player on a given board\n",
    "#It will be used by the AI to choose the best play to do\n",
    "\n",
    "def evaluation_function(board,depth,player):\n",
    "    score=0\n",
    "    \n",
    "    if player=='O':\n",
    "        altplay='X'\n",
    "    else :\n",
    "        altplay='O'\n",
    "    \n",
    "    \n",
    "    if state_board(board)=='draw':\n",
    "        return score\n",
    "    else :\n",
    "        if state_board(board)!='-1':\n",
    "            if state_board(board)==player:\n",
    "                return (1000+depth)\n",
    "            else:\n",
    "                return (-1000-depth)\n",
    "        \n",
    "        #diago\n",
    "        tab_d1=[]\n",
    "        tab_d2=[]\n",
    "        for i in range(board_side):\n",
    "            #vertical and horizontal\n",
    "            tab_h=[]\n",
    "            tab_v=[]\n",
    "            \n",
    "\n",
    "            \n",
    "            for j in range(board_side):\n",
    "                tab_h.append(board[i*board_side+j])\n",
    "                tab_v.append(board[j*board_side+i])\n",
    "                \n",
    "            score+=line_estimator(tab_h,player)\n",
    "            score+=line_estimator(tab_v,player)\n",
    "            score-=line_estimator(tab_h,altplay)\n",
    "            score-=line_estimator(tab_v,altplay)\n",
    "\n",
    "            tab_d1.append(board[i*(board_side+1)])\n",
    "            tab_d2.append(board[(i+1)*(board_side-1)])\n",
    "\n",
    "        score+=line_estimator(tab_d1,player)\n",
    "        score+=line_estimator(tab_d2,player)\n",
    "        score-=line_estimator(tab_d1,altplay)\n",
    "        score-=line_estimator(tab_d2,altplay)\n",
    "      \n",
    "        \n",
    "        if score>0:\n",
    "            score=score+depth*20\n",
    "        else:\n",
    "            score=score-depth*20\n",
    "    return score\n",
    "    \n",
    "    \n",
    "import numpy as np\n",
    "    \n",
    "def line_estimator(tab,player):\n",
    "    score=0\n",
    "    vide=[]\n",
    "    player_idx=[]\n",
    "    opp_idx=[]\n",
    "    \n",
    "    if player=='O':\n",
    "        opp='X'\n",
    "    else:\n",
    "        opp='O'\n",
    "    for i in range(len(tab)):\n",
    "        if tab[i]==' ':\n",
    "            vide.append(i)\n",
    "        elif tab[i]==player:\n",
    "            player_idx.append(i)\n",
    "        else:\n",
    "            opp_idx.append(i)\n",
    "        \n",
    "    if len(opp_idx)==0:\n",
    "        score+=len(player_idx)\n",
    "    elif len(opp_idx)==1:\n",
    "        if opp_idx[0]==0 or opp_idx[0]==4:\n",
    "                    score+=len(player_idx)\n",
    "        else:\n",
    "            score-=2\n",
    "    else:\n",
    "        score=score-len(opp_idx)-len(vide)\n",
    "    \n",
    "    \n",
    "    if tab==[\" \",player,player,player,\" \"]:\n",
    "        return 100\n",
    "    if tab==[\" \",opp,opp,opp,\" \"]:\n",
    "        return -100\n",
    "    \n",
    "    return score    "
   ]
  },
  {
   "cell_type": "markdown",
   "id": "356504e4",
   "metadata": {},
   "source": [
    "## e. Zobrist Hashing <a class=\"anchor\" id=\"c25\"></a>"
   ]
  },
  {
   "cell_type": "code",
   "execution_count": 7,
   "id": "30ec6840",
   "metadata": {},
   "outputs": [],
   "source": [
    "#Zobrist Hashing is used to create a dictionary composed of board state and score\n",
    "#Thus, when a situation is calculated, if we have the same state to calculate in the futur, we will gain time because\n",
    "#it's already registered.\n",
    "\n",
    "#Generating the keys\n",
    "\n",
    "def Generate_keys(board_size):\n",
    "        hash_key=[]\n",
    "        for i in range(board_size):\n",
    "            for j in range(2):\n",
    "                hash_key.append(random.randint(3,2**64))\n",
    "        return hash_key\n",
    "    \n",
    "def Calculate_Hash(board,hash_key):\n",
    "    val_hash=0\n",
    "    for i in range(board_size):\n",
    "        if board[i]!=' ':\n",
    "            if board[i]=='X':\n",
    "                val_hash^=hash_key[i*2]\n",
    "            else:\n",
    "                val_hash^=hash_key[(i*2)+1]\n",
    "    return val_hash"
   ]
  },
  {
   "cell_type": "markdown",
   "id": "0f3ea9c0",
   "metadata": {},
   "source": [
    "## f. IA MiniMax <a class=\"anchor\" id=\"c26\"></a>"
   ]
  },
  {
   "cell_type": "code",
   "execution_count": 8,
   "id": "668e13d2",
   "metadata": {},
   "outputs": [
    {
     "data": {
      "text/html": [
       "<img src=\"https://upload.wikimedia.org/wikipedia/commons/thumb/9/91/AB_pruning.svg/1920px-AB_pruning.svg.png\"/>"
      ],
      "text/plain": [
       "<IPython.core.display.Image object>"
      ]
     },
     "execution_count": 8,
     "metadata": {},
     "output_type": "execute_result"
    }
   ],
   "source": [
    " Image(url= \"https://upload.wikimedia.org/wikipedia/commons/thumb/9/91/AB_pruning.svg/1920px-AB_pruning.svg.png\")"
   ]
  },
  {
   "cell_type": "code",
   "execution_count": 9,
   "id": "002b8367",
   "metadata": {},
   "outputs": [],
   "source": [
    "#This is the most important method where the magic happens. By calculating various score of board state and using tree research.\n",
    "#The AI will play the best play according to the evaluation function.\n",
    "\n",
    "def minimax(player,board, max_depth, alpha, beta,val_hash):\n",
    "    if ((max_depth == 0) or (state_board(board)!='-1')):\n",
    "        if (val_hash in dico_val_board.keys()) and (player in dico_val_board[val_hash].keys()) :\n",
    "            score=dico_val_board[val_hash][player]\n",
    "        else:\n",
    "            score=evaluation_function(board,max_depth,player)\n",
    "            if not val_hash in dico_val_board.keys():\n",
    "                dico_val_board[val_hash]={}\n",
    "            dico_val_board[val_hash][player]=score\n",
    "        return score\n",
    "\n",
    "    if player=='O':\n",
    "        value = -math.inf\n",
    "        for move in empty_position(board):\n",
    "            board[move]=player\n",
    "            val_hash^=hash_keys[move*2+1]\n",
    "            evaluation = minimax('X',board, max_depth - 1, alpha , beta,val_hash )\n",
    "            value=max(value,evaluation)\n",
    "            board[move]=' '\n",
    "            val_hash^=hash_keys[move*2+1]\n",
    "            alpha = max(alpha, value)\n",
    "            if beta <= alpha:\n",
    "                break\n",
    "        return value\n",
    "    \n",
    "    else:\n",
    "        value = math.inf\n",
    "        for move in empty_position(board):\n",
    "            board[move]=player\n",
    "            val_hash^=hash_keys[move*2]\n",
    "            evaluation = minimax('O',board, max_depth - 1, alpha, beta,val_hash)\n",
    "            value=min(value,evaluation)\n",
    "            board[move]=' '\n",
    "            val_hash^=hash_keys[move*2]\n",
    "            beta = min(beta, value)\n",
    "            if beta >= alpha:\n",
    "                break\n",
    "        return value"
   ]
  },
  {
   "cell_type": "markdown",
   "id": "879bc8cf",
   "metadata": {},
   "source": [
    "## 3. Play the Game in the Python console <a class=\"anchor\" id=\"c3\"></a>"
   ]
  },
  {
   "cell_type": "code",
   "execution_count": 10,
   "id": "84a8928f",
   "metadata": {},
   "outputs": [
    {
     "name": "stdout",
     "output_type": "stream",
     "text": [
      "Couldn't find program: 'false'\n"
     ]
    }
   ],
   "source": [
    "%%script false --no-raise-error\n",
    "# comment the previous line if you want to play in the console\n",
    "\n",
    "depth=7\n",
    "turn=1\n",
    "\n",
    "#board initialization\n",
    "board_side=5\n",
    "board_size=board_side**2\n",
    "board=[]\n",
    "for i in range(board_size):\n",
    "        board.append(' ')\n",
    "        \n",
    "#hash\n",
    "dico_val_board={}\n",
    "hash_keys=Generate_keys(board_size)\n",
    "        \n",
    "#AI or human start\n",
    "player_turn=random.randrange(2)\n",
    "\n",
    "while(state_board(board)=='-1'):\n",
    "    print(f'==== Turn {turn} =====')\n",
    "    display_board(board)\n",
    "    #human turn\n",
    "    if player_turn==0:\n",
    "            add_point_player(board,'X')\n",
    "            player_turn=1\n",
    "    #IA turn\n",
    "    else :\n",
    "            print(\"AI is calculating...\")\n",
    "            if turn==1:\n",
    "                board[12]='O'\n",
    "            else:\n",
    "                opti_pos=add_point_IA(board,depth)\n",
    "                print(\"AI play:\",opti_pos)\n",
    "                board[opti_pos]='O'\n",
    "            player_turn=0\n",
    "    turn+=1\n",
    "#END\n",
    "print(\"End of the Game !\")\n",
    "display_board(board)\n",
    "\n",
    "if state_board(board)=='X':\n",
    "    print(\"Human Win\")\n",
    "elif state_board(board)=='O':\n",
    "    print(\"AI Win\")\n",
    "else:\n",
    "    print(\"Draw\")\n",
    "\n",
    "\n",
    "\n"
   ]
  },
  {
   "cell_type": "markdown",
   "id": "0ae14165",
   "metadata": {},
   "source": [
    "## 4. Play the Game in a better interface <a class=\"anchor\" id=\"c4\"></a>"
   ]
  },
  {
   "cell_type": "markdown",
   "id": "b7dbaa71",
   "metadata": {},
   "source": [
    "The main line of this code part came from the documentation of Ursina Engine which introduce you how to build a normal tic tac toe without AI.\n",
    "* https://www.ursinaengine.org/documentation.html\n",
    "\n",
    "<br>\n",
    "However, some modifications have been made to add an AI player instead of a 1vs1 human game, changes on condition of winning and board size have also been made."
   ]
  },
  {
   "cell_type": "code",
   "execution_count": 11,
   "id": "d11c4931",
   "metadata": {},
   "outputs": [
    {
     "name": "stdout",
     "output_type": "stream",
     "text": [
      "Couldn't find program: 'false'\n"
     ]
    }
   ],
   "source": [
    "%%script false --no-raise-error\n",
    "# comment the previous line if you want to play in an ursina windows app\n",
    "\n",
    "app=Ursina()\n",
    "\n",
    "camera.orthographic = True\n",
    "camera.fov=4\n",
    "camera.position=(1,1)\n",
    "forced_aspect_ratio = 1.27\n",
    "\n",
    "player=Entity(name='O',color=color.azure)\n",
    "cursor=Tooltip(color=player.color,origin=(0,0),scale=2,enabled=True)\n",
    "cursor.background.color=color.clear\n",
    "\n",
    "bg=Entity(parent=scene,model='quad',scale=(16,8),z=10,color=color.light_gray)\n",
    "mouse.visible=True\n",
    "\n",
    "\n",
    "depth=7\n",
    "turn=1\n",
    "\n",
    "#board initialization\n",
    "board_side=5\n",
    "board_size=board_side**2\n",
    "board2=[]\n",
    "for i in range(board_size):\n",
    "        board2.append(' ')\n",
    "        \n",
    "#hash\n",
    "dico_val_board={}\n",
    "hash_keys=Generate_keys(board_size)\n",
    "        \n",
    "\n",
    "\n",
    "\n",
    "board=[[None for y in range(5)]for x in range(5)]\n",
    "for x in range(5):\n",
    "    for y in range(5):\n",
    "        b=Button(parent=scene,radius=.1,position=(x/2,y/2),scale=.48)\n",
    "        board[x][y]=b\n",
    "\n",
    "        def on_click(b=b):\n",
    "            \n",
    "            b.text='X'\n",
    "            b.color=color.orange\n",
    "            b.collision=False\n",
    "\n",
    "            cursor.text=''\n",
    "            cursor.color=player.color\n",
    "            \n",
    "            for i in range(5):\n",
    "                for j in range(5):\n",
    "                    if (board[i][j].text)!=None:\n",
    "                        if board[i][j].text=='X':\n",
    "                            board2[(j+(i)*board_side)]='X'\n",
    "                        else:\n",
    "                            board2[(j+(i)*board_side)]='O'\n",
    "            \n",
    "            \n",
    "            if state_board(board2)=='-1':\n",
    "                opti_pos=add_point_IA(board2,depth)\n",
    "                board2[opti_pos]='O'\n",
    "                display_board(board2)\n",
    "                a=opti_pos//5\n",
    "                b=opti_pos%5\n",
    "                board[a][b]=Button(parent=scene,text='O', color=color.azure,radius=.1,position=(a/2,b/2),scale=.48)\n",
    "                if state_board(board2)!='-1':\n",
    "                    destroy(cursor)\n",
    "                    mouse.visible=True\n",
    "                    Panel(z=1, scale=10, model='quad')\n",
    "                    if state_board(board2)=='O':\n",
    "                        t = Text(\"AI Win !\", scale=3, origin=(0,0), background=True)\n",
    "                    elif state_board(board2)=='X':\n",
    "                        t = Text(\"Human Win !\", scale=3, origin=(0,0), background=True)\n",
    "                    else:\n",
    "                        t = Text(\"Draw !\", scale=3, origin=(0,0), background=True)\n",
    "\n",
    "            else :\n",
    "                    destroy(cursor)\n",
    "                    mouse.visible=True\n",
    "                    Panel(z=1, scale=10, model='quad')\n",
    "                    if state_board(board2)=='O':\n",
    "                        t = Text(\"AI Win !\", scale=3, origin=(0,0), background=True)\n",
    "                    elif state_board(board2)=='X':\n",
    "                        t = Text(\"Human Win !\", scale=3, origin=(0,0), background=True)\n",
    "                    else:\n",
    "                        t = Text(\"Draw !\", scale=3, origin=(0,0), background=True)\n",
    "\n",
    "             \n",
    "        b.on_click=on_click\n",
    "        \n",
    "app.run()"
   ]
  }
 ],
 "metadata": {
  "kernelspec": {
   "display_name": "Python 3",
   "language": "python",
   "name": "python3"
  },
  "language_info": {
   "codemirror_mode": {
    "name": "ipython",
    "version": 3
   },
   "file_extension": ".py",
   "mimetype": "text/x-python",
   "name": "python",
   "nbconvert_exporter": "python",
   "pygments_lexer": "ipython3",
   "version": "3.8.8"
  }
 },
 "nbformat": 4,
 "nbformat_minor": 5
}
